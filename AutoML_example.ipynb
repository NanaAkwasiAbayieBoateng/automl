{
 "cells": [
  {
   "cell_type": "markdown",
   "metadata": {},
   "source": [
    "# OnePanel AutoML 0.1a\n",
    "\n",
    "AutoML is a framework that allows building automated machine learning pipelines easily and declaratively, running them locally (current implementation) or on the cluster (TBD).\n",
    "\n",
    "The framework can be easily extened with new features.\n",
    "Currently AutoML is integrated with popular opensource machine learning libraries like Scikit-learn and Hyperopt"
   ]
  },
  {
   "cell_type": "code",
   "execution_count": 1,
   "metadata": {},
   "outputs": [],
   "source": [
    "import sys\n",
    "# AutoML uses Python's logging module\n",
    "import logging\n",
    "\n",
    "# Various sklearn models and metrics\n",
    "from sklearn.datasets import make_classification\n",
    "from sklearn.ensemble import RandomForestClassifier, GradientBoostingClassifier\n",
    "from sklearn.neighbors import KNeighborsClassifier\n",
    "from sklearn.metrics import roc_auc_score\n",
    "from xgboost.sklearn import XGBClassifier\n",
    "\n",
    "# AutoML Clasees\n",
    "from automl.pipeline import LocalExecutor, Pipeline, PipelineStep, PipelineData\n",
    "from automl.data.dataset import Dataset\n",
    "from automl.model import ModelSpace, CV, Validate, ChooseBest\n",
    "from automl.hyperparam.templates import (random_forest_hp_space, \n",
    "                                         knn_hp_space, svc_kernel_hp_space, \n",
    "                                         grad_boosting_hp_space, \n",
    "                                         xgboost_hp_space)\n",
    "from automl.feature.generators import FormulaFeatureGenerator\n",
    "from automl.feature.selector import FeatureSelector\n",
    "from automl.hyperparam.optimization import Hyperopt\n",
    "from automl.combinators import RandomChoice\n",
    "\n",
    "logging.basicConfig(level=logging.INFO)\n",
    "# Create logger\n",
    "logger = logging.getLogger()\n",
    "logger.setLevel(logging.DEBUG)\n",
    "\n",
    "# Create STDERR handler\n",
    "handler = logging.StreamHandler(sys.stderr)\n",
    "# ch.setLevel(logging.DEBUG)\n",
    "\n",
    "# Create formatter and add it to the handler\n",
    "formatter = logging.Formatter('%(name)s - %(levelname)s - %(message)s')\n",
    "handler.setFormatter(formatter)\n",
    "\n",
    "# Set STDERR handler as the only handler \n",
    "logger.handlers = [handler]"
   ]
  },
  {
   "cell_type": "markdown",
   "metadata": {},
   "source": [
    "# Core concepts\n",
    "AutoML follows code-is-data and data-is-code philosophy. You defind automated machine learning pipelines as data structures that can be executed later.\n",
    "Key concepts in AutoML are \n",
    "* `Pipeline` - a machine learning pipeline. It executes various steps inside the pipeline passing each step output as an input to the next step\n",
    "* `PipelineStep` - all `Pipeline`s consist of steps. AutoML provide lots of different steps out of the box\n",
    "* `Executor` - executes a pipeline. Currently AutoML provides `LocalExecutor` which runs pipeline locally. Future versions will have `DistributedExecutor` built-in \n",
    "\n",
    "AutoML can easily be extended by implementing own `PipelineStep`s. Next, we will use various built-in `PipelineStep`s to create an automated classification pipeline."
   ]
  },
  {
   "cell_type": "code",
   "execution_count": 2,
   "metadata": {
    "scrolled": true
   },
   "outputs": [
    {
     "name": "stderr",
     "output_type": "stream",
     "text": [
      "LocalExecutor - INFO - Framework version: v0.1.4\n",
      "LocalExecutor - INFO - Starting AutoML Epoch #1\n",
      "LocalExecutor - INFO - Dataset columns: ['base_feature_0', 'base_feature_1', 'base_feature_2', 'base_feature_3', 'base_feature_4', 'base_feature_5', 'base_feature_6', 'base_feature_7', 'base_feature_8', 'base_feature_9', 'base_feature_10', 'base_feature_11', 'base_feature_12', 'base_feature_13', 'base_feature_14', 'base_feature_15', 'base_feature_16', 'base_feature_17', 'base_feature_18', 'base_feature_19', 'base_feature_20', 'base_feature_21', 'base_feature_22', 'base_feature_23', 'base_feature_24', 'base_feature_25', 'base_feature_26', 'base_feature_27', 'base_feature_28', 'base_feature_29', 'base_feature_30', 'base_feature_31', 'base_feature_32', 'base_feature_33', 'base_feature_34', 'base_feature_35', 'base_feature_36', 'base_feature_37', 'base_feature_38', 'base_feature_39']\n",
      "  0%|          | 0/5 [00:00<?, ?it/s]LocalExecutor - INFO - Running step 'model space'\n",
      "LocalExecutor - INFO - Running step 'FormulaFeatureGenerator'\n",
      "FormulaFeatureGenerator - INFO - Generated new features. Old feature number - 40, new feature number - 41\n",
      "LocalExecutor - INFO - Running step 'Hyperopt'\n",
      "Hyperopt - INFO - {'n_estimators': <hyperopt.pyll.base.Apply object at 0x10c8da278>, 'max_features': <hyperopt.pyll.base.Apply object at 0x10c8da630>, 'max_depth': <hyperopt.pyll.base.Apply object at 0x10c8da940>, 'min_samples_split': 2, 'min_samples_leaf': <hyperopt.pyll.base.Apply object at 0x10c8dacf8>, 'bootstrap': <hyperopt.pyll.base.Apply object at 0x10c8dae48>, 'oob_score': False, 'n_jobs': 1, 'random_state': <hyperopt.pyll.base.Apply object at 0x10c8daf60>, 'verbose': False, 'criterion': 'gini'}\n",
      "Hyperopt - INFO - Running hyperparameter optimization for <class 'sklearn.ensemble.forest.RandomForestClassifier'>\n",
      "hyperopt.tpe - INFO - tpe_transform took 0.007184 seconds\n",
      "hyperopt.tpe - INFO - TPE using 0 trials\n",
      "hyperopt.tpe - INFO - tpe_transform took 0.005374 seconds\n",
      "hyperopt.tpe - INFO - TPE using 1/1 trials with best loss 0.058586\n"
     ]
    },
    {
     "name": "stdout",
     "output_type": "stream",
     "text": [
      "\n",
      "  █████╗ ██╗   ██╗████████╗ ██████╗ ███╗   ███╗██╗     \n",
      " ██╔══██╗██║   ██║╚══██╔══╝██╔═══██╗████╗ ████║██║     \n",
      " ███████║██║   ██║   ██║   ██║   ██║██╔████╔██║██║     \n",
      " ██╔══██║██║   ██║   ██║   ██║   ██║██║╚██╔╝██║██║     \n",
      " ██║  ██║╚██████╔╝   ██║   ╚██████╔╝██║ ╚═╝ ██║███████╗\n",
      " ╚═╝  ╚═╝ ╚═════╝    ╚═╝    ╚═════╝ ╚═╝     ╚═╝╚══════╝\n",
      "\n"
     ]
    },
    {
     "name": "stderr",
     "output_type": "stream",
     "text": [
      "/Users/rush/Library/Python/3.6/lib/python/site-packages/tqdm/_monitor.py:89: TqdmSynchronisationWarning: Set changed size during iteration (see https://github.com/tqdm/tqdm/issues/481)\n",
      "  TqdmSynchronisationWarning)\n",
      "hyperopt.tpe - INFO - tpe_transform took 0.003790 seconds\n",
      "hyperopt.tpe - INFO - TPE using 2/2 trials with best loss 0.049495\n",
      "hyperopt.tpe - INFO - tpe_transform took 0.003041 seconds\n",
      "hyperopt.tpe - INFO - TPE using 3/3 trials with best loss 0.038384\n",
      "/Users/rush/Library/Python/3.6/lib/python/site-packages/tqdm/_monitor.py:89: TqdmSynchronisationWarning: Set changed size during iteration (see https://github.com/tqdm/tqdm/issues/481)\n",
      "  TqdmSynchronisationWarning)\n",
      "hyperopt.tpe - INFO - tpe_transform took 0.003705 seconds\n",
      "hyperopt.tpe - INFO - TPE using 4/4 trials with best loss 0.038384\n",
      "/Users/rush/Library/Python/3.6/lib/python/site-packages/tqdm/_monitor.py:89: TqdmSynchronisationWarning: Set changed size during iteration (see https://github.com/tqdm/tqdm/issues/481)\n",
      "  TqdmSynchronisationWarning)\n",
      "Hyperopt - INFO - Reversing best score bask to original form as reverse_score=True\n",
      "Hyperopt - INFO - {'n_neighbors': <hyperopt.pyll.base.Apply object at 0x10c8e0198>, 'weights': <hyperopt.pyll.base.Apply object at 0x10c8e02b0>, 'algorithm': 'auto', 'leaf_size': 30, 'metric': 'euclidean', 'p': 2, 'metric_params': None, 'n_jobs': 1}\n",
      "Hyperopt - INFO - Running hyperparameter optimization for <class 'sklearn.neighbors.classification.KNeighborsClassifier'>\n",
      "hyperopt.tpe - INFO - tpe_transform took 0.001163 seconds\n",
      "hyperopt.tpe - INFO - TPE using 0 trials\n",
      "hyperopt.tpe - INFO - tpe_transform took 0.001218 seconds\n",
      "hyperopt.tpe - INFO - TPE using 1/1 trials with best loss 0.067677\n",
      "hyperopt.tpe - INFO - tpe_transform took 0.001378 seconds\n",
      "hyperopt.tpe - INFO - TPE using 2/2 trials with best loss 0.067677\n",
      "hyperopt.tpe - INFO - tpe_transform took 0.001146 seconds\n",
      "hyperopt.tpe - INFO - TPE using 3/3 trials with best loss 0.067677\n",
      "hyperopt.tpe - INFO - tpe_transform took 0.001597 seconds\n",
      "hyperopt.tpe - INFO - TPE using 4/4 trials with best loss 0.067677\n",
      "Hyperopt - INFO - Reversing best score bask to original form as reverse_score=True\n",
      "Hyperopt - INFO - {'max_depth': <hyperopt.pyll.base.Apply object at 0x10c8e04a8>, 'learning_rate': <hyperopt.pyll.base.Apply object at 0x10c8e0630>, 'n_estimators': <hyperopt.pyll.base.Apply object at 0x10c8e0828>, 'gamma': <hyperopt.pyll.base.Apply object at 0x10c8e09b0>, 'min_child_weight': <hyperopt.pyll.base.Apply object at 0x10c8e0b70>, 'max_delta_step': 0, 'subsample': <hyperopt.pyll.base.Apply object at 0x10c8e0cc0>, 'colsample_bytree': <hyperopt.pyll.base.Apply object at 0x10c8e0e10>, 'colsample_bylevel': <hyperopt.pyll.base.Apply object at 0x10c8e0f60>, 'reg_alpha': <hyperopt.pyll.base.Apply object at 0x10c8ea128>, 'reg_lambda': <hyperopt.pyll.base.Apply object at 0x10c8ea2b0>, 'scale_pos_weight': 1, 'base_score': 0.5, 'seed': <hyperopt.pyll.base.Apply object at 0x10c8ea358>}\n",
      "Hyperopt - INFO - Running hyperparameter optimization for <class 'xgboost.sklearn.XGBClassifier'>\n",
      "hyperopt.tpe - INFO - tpe_transform took 0.004416 seconds\n",
      "hyperopt.tpe - INFO - TPE using 0 trials\n",
      "/Users/rush/Library/Python/3.6/lib/python/site-packages/sklearn/preprocessing/label.py:151: DeprecationWarning: The truth value of an empty array is ambiguous. Returning False, but in future this will result in an error. Use `array.size > 0` to check that an array is not empty.\n",
      "  if diff:\n",
      "hyperopt.tpe - INFO - tpe_transform took 0.004646 seconds\n",
      "hyperopt.tpe - INFO - TPE using 1/1 trials with best loss 0.027273\n",
      "/Users/rush/Library/Python/3.6/lib/python/site-packages/sklearn/preprocessing/label.py:151: DeprecationWarning: The truth value of an empty array is ambiguous. Returning False, but in future this will result in an error. Use `array.size > 0` to check that an array is not empty.\n",
      "  if diff:\n",
      "hyperopt.tpe - INFO - tpe_transform took 0.004408 seconds\n",
      "hyperopt.tpe - INFO - TPE using 2/2 trials with best loss 0.027273\n",
      "/Users/rush/Library/Python/3.6/lib/python/site-packages/sklearn/preprocessing/label.py:151: DeprecationWarning: The truth value of an empty array is ambiguous. Returning False, but in future this will result in an error. Use `array.size > 0` to check that an array is not empty.\n",
      "  if diff:\n",
      "hyperopt.tpe - INFO - tpe_transform took 0.004933 seconds\n",
      "hyperopt.tpe - INFO - TPE using 3/3 trials with best loss 0.027273\n",
      "/Users/rush/Library/Python/3.6/lib/python/site-packages/tqdm/_monitor.py:89: TqdmSynchronisationWarning: Set changed size during iteration (see https://github.com/tqdm/tqdm/issues/481)\n",
      "  TqdmSynchronisationWarning)\n",
      "/Users/rush/Library/Python/3.6/lib/python/site-packages/sklearn/preprocessing/label.py:151: DeprecationWarning: The truth value of an empty array is ambiguous. Returning False, but in future this will result in an error. Use `array.size > 0` to check that an array is not empty.\n",
      "  if diff:\n",
      "hyperopt.tpe - INFO - tpe_transform took 0.004047 seconds\n",
      "hyperopt.tpe - INFO - TPE using 4/4 trials with best loss 0.027273\n",
      "/Users/rush/Library/Python/3.6/lib/python/site-packages/tqdm/_monitor.py:89: TqdmSynchronisationWarning: Set changed size during iteration (see https://github.com/tqdm/tqdm/issues/481)\n",
      "  TqdmSynchronisationWarning)\n",
      "/Users/rush/Library/Python/3.6/lib/python/site-packages/sklearn/preprocessing/label.py:151: DeprecationWarning: The truth value of an empty array is ambiguous. Returning False, but in future this will result in an error. Use `array.size > 0` to check that an array is not empty.\n",
      "  if diff:\n",
      "Hyperopt - INFO - Reversing best score bask to original form as reverse_score=True\n",
      " 60%|██████    | 3/5 [00:51<00:34, 17.15s/it]LocalExecutor - INFO - Running step 'ChooseBest'\n",
      "ChooseBest - INFO - Final model scores:\n",
      "ChooseBest - INFO - RandomForestClassifier(bootstrap=False, class_weight=None, criterion='gini',\n",
      "            max_depth=3, max_features=0.1784648248364067,\n",
      "            max_leaf_nodes=None, min_impurity_decrease=0.0,\n",
      "            min_impurity_split=None, min_samples_leaf=1,\n",
      "            min_samples_split=2, min_weight_fraction_leaf=0.0,\n",
      "            n_estimators=1672, n_jobs=1, oob_score=False, random_state=1,\n",
      "            verbose=False, warm_start=False) - 0.9727272727272727\n",
      "ChooseBest - INFO - XGBClassifier(base_score=0.5, booster='gbtree',\n",
      "       colsample_bylevel=0.5174312394064895,\n",
      "       colsample_bytree=0.78351320421014, gamma=0.0822544785740393,\n",
      "       learning_rate=3.937651284524985e-05, max_delta_step=0, max_depth=1,\n",
      "       min_child_weight=31, missing=None, n_estimators=5600, n_jobs=1,\n",
      "       nthread=None, objective='binary:logistic', random_state=0,\n",
      "       reg_alpha=0.035294764025357465, reg_lambda=3.2045417682929824,\n",
      "       scale_pos_weight=1, seed=1, silent=True,\n",
      "       subsample=0.8834337606760119) - 0.9727272727272727\n",
      "ChooseBest - INFO - KNeighborsClassifier(algorithm='auto', leaf_size=30, metric='euclidean',\n",
      "           metric_params=None, n_jobs=1, n_neighbors=34, p=2,\n",
      "           weights='distance') - 0.9323232323232324\n",
      "LocalExecutor - INFO - Running step 'FeatureSelector'\n",
      "FeatureSelector - INFO - Removing 10 features for model RandomForestClassifier\n",
      "100%|██████████| 5/5 [00:51<00:00, 10.33s/it]\n",
      "LocalExecutor - INFO - Starting AutoML Epoch #2\n",
      "LocalExecutor - INFO - Dataset columns: ['base_feature_2', 'base_feature_6', 'base_feature_10', 'base_feature_14', 'base_feature_16', 'base_feature_17', 'base_feature_23', 'base_feature_34', 'base_feature_35', 'base_feature_36']\n",
      "  0%|          | 0/5 [00:00<?, ?it/s]LocalExecutor - INFO - Running step 'model space'\n",
      "PipelineStep - INFO - Initializer step model space was already run, skipping\n",
      "LocalExecutor - INFO - Running step 'FormulaFeatureGenerator'\n",
      "FormulaFeatureGenerator - INFO - Generated new features. Old feature number - 10, new feature number - 11\n",
      "LocalExecutor - INFO - Running step 'Hyperopt'\n",
      "Hyperopt - INFO - {'n_estimators': <hyperopt.pyll.base.Apply object at 0x10c8da278>, 'max_features': <hyperopt.pyll.base.Apply object at 0x10c8da630>, 'max_depth': <hyperopt.pyll.base.Apply object at 0x10c8da940>, 'min_samples_split': 2, 'min_samples_leaf': <hyperopt.pyll.base.Apply object at 0x10c8dacf8>, 'bootstrap': <hyperopt.pyll.base.Apply object at 0x10c8dae48>, 'oob_score': False, 'n_jobs': 1, 'random_state': <hyperopt.pyll.base.Apply object at 0x10c8daf60>, 'verbose': False, 'criterion': 'gini'}\n"
     ]
    },
    {
     "name": "stderr",
     "output_type": "stream",
     "text": [
      "Hyperopt - INFO - Running hyperparameter optimization for <class 'sklearn.ensemble.forest.RandomForestClassifier'>\n",
      "hyperopt.tpe - INFO - tpe_transform took 0.003914 seconds\n",
      "hyperopt.tpe - INFO - TPE using 0 trials\n",
      "hyperopt.tpe - INFO - tpe_transform took 0.003552 seconds\n",
      "hyperopt.tpe - INFO - TPE using 1/1 trials with best loss 0.058586\n",
      "hyperopt.tpe - INFO - tpe_transform took 0.003915 seconds\n",
      "hyperopt.tpe - INFO - TPE using 2/2 trials with best loss 0.038384\n",
      "hyperopt.tpe - INFO - tpe_transform took 0.003564 seconds\n",
      "hyperopt.tpe - INFO - TPE using 3/3 trials with best loss 0.038384\n",
      "hyperopt.tpe - INFO - tpe_transform took 0.004145 seconds\n",
      "hyperopt.tpe - INFO - TPE using 4/4 trials with best loss 0.038384\n",
      "Hyperopt - INFO - Reversing best score bask to original form as reverse_score=True\n",
      "Hyperopt - INFO - {'n_neighbors': <hyperopt.pyll.base.Apply object at 0x10c8e0198>, 'weights': <hyperopt.pyll.base.Apply object at 0x10c8e02b0>, 'algorithm': 'auto', 'leaf_size': 30, 'metric': 'euclidean', 'p': 2, 'metric_params': None, 'n_jobs': 1}\n",
      "Hyperopt - INFO - Running hyperparameter optimization for <class 'sklearn.neighbors.classification.KNeighborsClassifier'>\n",
      "hyperopt.tpe - INFO - tpe_transform took 0.001199 seconds\n",
      "hyperopt.tpe - INFO - TPE using 0 trials\n",
      "hyperopt.tpe - INFO - tpe_transform took 0.001360 seconds\n",
      "hyperopt.tpe - INFO - TPE using 1/1 trials with best loss 0.073737\n",
      "hyperopt.tpe - INFO - tpe_transform took 0.001320 seconds\n",
      "hyperopt.tpe - INFO - TPE using 2/2 trials with best loss 0.073737\n",
      "hyperopt.tpe - INFO - tpe_transform took 0.001240 seconds\n",
      "hyperopt.tpe - INFO - TPE using 3/3 trials with best loss 0.029293\n",
      "hyperopt.tpe - INFO - tpe_transform took 0.001291 seconds\n",
      "hyperopt.tpe - INFO - TPE using 4/4 trials with best loss 0.029293\n",
      "Hyperopt - INFO - Reversing best score bask to original form as reverse_score=True\n",
      "Hyperopt - INFO - {'max_depth': <hyperopt.pyll.base.Apply object at 0x10c8e04a8>, 'learning_rate': <hyperopt.pyll.base.Apply object at 0x10c8e0630>, 'n_estimators': <hyperopt.pyll.base.Apply object at 0x10c8e0828>, 'gamma': <hyperopt.pyll.base.Apply object at 0x10c8e09b0>, 'min_child_weight': <hyperopt.pyll.base.Apply object at 0x10c8e0b70>, 'max_delta_step': 0, 'subsample': <hyperopt.pyll.base.Apply object at 0x10c8e0cc0>, 'colsample_bytree': <hyperopt.pyll.base.Apply object at 0x10c8e0e10>, 'colsample_bylevel': <hyperopt.pyll.base.Apply object at 0x10c8e0f60>, 'reg_alpha': <hyperopt.pyll.base.Apply object at 0x10c8ea128>, 'reg_lambda': <hyperopt.pyll.base.Apply object at 0x10c8ea2b0>, 'scale_pos_weight': 1, 'base_score': 0.5, 'seed': <hyperopt.pyll.base.Apply object at 0x10c8ea358>}\n",
      "Hyperopt - INFO - Running hyperparameter optimization for <class 'xgboost.sklearn.XGBClassifier'>\n",
      "hyperopt.tpe - INFO - tpe_transform took 0.005746 seconds\n",
      "hyperopt.tpe - INFO - TPE using 0 trials\n",
      "/Users/rush/Library/Python/3.6/lib/python/site-packages/sklearn/preprocessing/label.py:151: DeprecationWarning: The truth value of an empty array is ambiguous. Returning False, but in future this will result in an error. Use `array.size > 0` to check that an array is not empty.\n",
      "  if diff:\n",
      "hyperopt.tpe - INFO - tpe_transform took 0.004689 seconds\n",
      "hyperopt.tpe - INFO - TPE using 1/1 trials with best loss 0.051515\n",
      "/Users/rush/Library/Python/3.6/lib/python/site-packages/sklearn/preprocessing/label.py:151: DeprecationWarning: The truth value of an empty array is ambiguous. Returning False, but in future this will result in an error. Use `array.size > 0` to check that an array is not empty.\n",
      "  if diff:\n",
      "hyperopt.tpe - INFO - tpe_transform took 0.004139 seconds\n",
      "hyperopt.tpe - INFO - TPE using 2/2 trials with best loss 0.020202\n",
      "/Users/rush/Library/Python/3.6/lib/python/site-packages/sklearn/preprocessing/label.py:151: DeprecationWarning: The truth value of an empty array is ambiguous. Returning False, but in future this will result in an error. Use `array.size > 0` to check that an array is not empty.\n",
      "  if diff:\n",
      "hyperopt.tpe - INFO - tpe_transform took 0.004823 seconds\n",
      "hyperopt.tpe - INFO - TPE using 3/3 trials with best loss 0.020202\n",
      "/Users/rush/Library/Python/3.6/lib/python/site-packages/sklearn/preprocessing/label.py:151: DeprecationWarning: The truth value of an empty array is ambiguous. Returning False, but in future this will result in an error. Use `array.size > 0` to check that an array is not empty.\n",
      "  if diff:\n",
      "hyperopt.tpe - INFO - tpe_transform took 0.004081 seconds\n",
      "hyperopt.tpe - INFO - TPE using 4/4 trials with best loss 0.020202\n",
      "/Users/rush/Library/Python/3.6/lib/python/site-packages/sklearn/preprocessing/label.py:151: DeprecationWarning: The truth value of an empty array is ambiguous. Returning False, but in future this will result in an error. Use `array.size > 0` to check that an array is not empty.\n",
      "  if diff:\n",
      "Hyperopt - INFO - Reversing best score bask to original form as reverse_score=True\n",
      " 60%|██████    | 3/5 [00:05<00:03,  1.78s/it]LocalExecutor - INFO - Running step 'ChooseBest'\n",
      "ChooseBest - INFO - Final model scores:\n",
      "ChooseBest - INFO - XGBClassifier(base_score=0.5, booster='gbtree',\n",
      "       colsample_bylevel=0.7787641157267267,\n",
      "       colsample_bytree=0.5478702825933608, gamma=0.020806587332124784,\n",
      "       learning_rate=0.054724673451827605, max_delta_step=0, max_depth=2,\n",
      "       min_child_weight=78, missing=None, n_estimators=5600, n_jobs=1,\n",
      "       nthread=None, objective='binary:logistic', random_state=0,\n",
      "       reg_alpha=0.22576345473949086, reg_lambda=1.1010506375839129,\n",
      "       scale_pos_weight=1, seed=3, silent=True,\n",
      "       subsample=0.7180595467378208) - 0.9797979797979798\n",
      "ChooseBest - INFO - KNeighborsClassifier(algorithm='auto', leaf_size=30, metric='euclidean',\n",
      "           metric_params=None, n_jobs=1, n_neighbors=4, p=2,\n",
      "           weights='distance') - 0.9707070707070707\n",
      "ChooseBest - INFO - RandomForestClassifier(bootstrap=True, class_weight=None, criterion='gini',\n",
      "            max_depth=4, max_features=0.4577831763106992,\n",
      "            max_leaf_nodes=None, min_impurity_decrease=0.0,\n",
      "            min_impurity_split=None, min_samples_leaf=1,\n",
      "            min_samples_split=2, min_weight_fraction_leaf=0.0,\n",
      "            n_estimators=70, n_jobs=1, oob_score=False, random_state=1,\n",
      "            verbose=False, warm_start=False) - 0.9616161616161616\n",
      "LocalExecutor - INFO - Running step 'FeatureSelector'\n",
      "FeatureSelector - INFO - Removing 11 features for model XGBClassifier\n",
      "100%|██████████| 5/5 [00:05<00:00,  1.08s/it]"
     ]
    },
    {
     "name": "stdout",
     "output_type": "stream",
     "text": [
      "XGBClassifier(base_score=0.5, booster='gbtree',\n",
      "       colsample_bylevel=0.7787641157267267,\n",
      "       colsample_bytree=0.5478702825933608, gamma=0.020806587332124784,\n",
      "       learning_rate=0.054724673451827605, max_delta_step=0, max_depth=2,\n",
      "       min_child_weight=78, missing=None, n_estimators=5600, n_jobs=1,\n",
      "       nthread=None, objective='binary:logistic', random_state=0,\n",
      "       reg_alpha=0.22576345473949086, reg_lambda=1.1010506375839129,\n",
      "       scale_pos_weight=1, seed=3, silent=True,\n",
      "       subsample=0.7180595467378208) 0.9797979797979798\n",
      "(1000, 11)\n"
     ]
    },
    {
     "name": "stderr",
     "output_type": "stream",
     "text": [
      "\n"
     ]
    }
   ],
   "source": [
    "# Let's create a dataset first\n",
    "x, y = make_classification(\n",
    "      n_samples=1000,\n",
    "      n_features=40,\n",
    "      n_informative=2,\n",
    "      n_redundant=10,\n",
    "      flip_y=0.05)\n",
    "\n",
    "# We will use AutoML Dataset class to wrap our data \n",
    "# into structure that can be understanded by AutoML\n",
    "data = Dataset(x, y)\n",
    "\n",
    "# Next, we define our ModelSpace. ModelSpace is initialized by a list of tuples.\n",
    "# First element of each tuple should be an sklearn-like estimator with fit method\n",
    "# The second one is model parameter dictionary. Here we do not define parameters \n",
    "# explicitly, but use hyperparameter templates from AutoML. Those templates can be\n",
    "# used later by Hyperopt step to find best model parameters automatically\n",
    "model_list = [\n",
    "      (RandomForestClassifier, random_forest_hp_space()),\n",
    "      (KNeighborsClassifier, knn_hp_space(lambda key: key)),\n",
    "      (XGBClassifier, xgboost_hp_space())\n",
    "  ]\n",
    "\n",
    "\n",
    "# Create executor, initialize it with our classification dataset \n",
    "# and set total number of epochs to 2 (the pipeline will be run two times in a row).\n",
    "# We can load any pipeline into executor using << operator like below:\n",
    "context, pipeline_data = LocalExecutor(data, epochs=2) << \\\n",
    "    (Pipeline() # Here we define the pipeline. Steps can be added to pipeline using >> operator\n",
    "     # First we define our ModelSpace. We wrap it with PipelineStep class \n",
    "     # and set initializer=True so that ModelSpace step will be run only at the first epoch\n",
    "     >> PipelineStep('model space', ModelSpace(model_list), initializer=True)\n",
    "     # But we are not obliged to wrap all steps with PipelineStep.\n",
    "     # This will be done automatically if we do not need to set any special parameters \n",
    "     # We use FormulaFeatureGenerator to create arithmetic combinations of features from the dataset\n",
    "     >> FormulaFeatureGenerator(['+', '-', '*']) \n",
    "     # Next we use Hyperopt to find the best combination of hyperparameters for each model\n",
    "     # We use test set validation with ROC AUC metric as a score function.\n",
    "     # CV could be used instead of Validate to perform cross-validation\n",
    "     >> Hyperopt(Validate(test_size=0.1, metrics=roc_auc_score), max_evals=5) \n",
    "     # Then we choose the best performing model we found\n",
    "     >> ChooseBest(1)\n",
    "     # And select 10 best features\n",
    "     >> FeatureSelector(10))\n",
    "\n",
    "for result in pipeline_data.return_val:\n",
    "    print(result.model, result.score)\n",
    "print(pipeline_data.dataset.data.shape)"
   ]
  },
  {
   "cell_type": "markdown",
   "metadata": {},
   "source": [
    "# Extending AutoML\n",
    "\n",
    "First, let's look at how `PipelineStep`s can be created by creating a simple hello world pipeline."
   ]
  },
  {
   "cell_type": "code",
   "execution_count": 3,
   "metadata": {},
   "outputs": [
    {
     "name": "stderr",
     "output_type": "stream",
     "text": [
      "LocalExecutor - INFO - Framework version: v0.1.4\n",
      "LocalExecutor - INFO - Starting AutoML Epoch #1\n",
      "  0%|          | 0/1 [00:00<?, ?it/s]LocalExecutor - INFO - Running step 'hello_step'\n",
      "100%|██████████| 1/1 [00:00<00:00, 496.43it/s]"
     ]
    },
    {
     "name": "stdout",
     "output_type": "stream",
     "text": [
      "\n",
      "  █████╗ ██╗   ██╗████████╗ ██████╗ ███╗   ███╗██╗     \n",
      " ██╔══██╗██║   ██║╚══██╔══╝██╔═══██╗████╗ ████║██║     \n",
      " ███████║██║   ██║   ██║   ██║   ██║██╔████╔██║██║     \n",
      " ██╔══██║██║   ██║   ██║   ██║   ██║██║╚██╔╝██║██║     \n",
      " ██║  ██║╚██████╔╝   ██║   ╚██████╔╝██║ ╚═╝ ██║███████╗\n",
      " ╚═╝  ╚═╝ ╚═════╝    ╚═╝    ╚═════╝ ╚═╝     ╚═╝╚══════╝\n",
      "\n",
      "Hello!\n"
     ]
    },
    {
     "name": "stderr",
     "output_type": "stream",
     "text": [
      "\n"
     ]
    },
    {
     "data": {
      "text/plain": [
       "(<automl.pipeline.PipelineContext at 0x10756a828>, None)"
      ]
     },
     "execution_count": 3,
     "metadata": {},
     "output_type": "execute_result"
    }
   ],
   "source": [
    "# Let's create a simple pipeline\n",
    "pipeline = Pipeline() >> PipelineStep('hello_step', lambda inp, context: print(\"Hello!\"))\n",
    "\n",
    "# And execute it locally\n",
    "LocalExecutor() << pipeline"
   ]
  },
  {
   "cell_type": "markdown",
   "metadata": {},
   "source": [
    "As you can see steps can be added to a pipeline using `>>` operator. A pipeline may contain any number of steps. Any `PipelineStep` is constructed by passing a step name and a `callable` which will be executed when `Pipeline` is run by an `Executor`. It's important to mention that all `Pipeline`s are lazy and all steps inside will be executed only when `Pipeline` is loaded into `Executor.`\n",
    "\n",
    "`PipelineStep` syntax is pretty verbose, but it can be simplified. You can pass any `callable` to a pipeline and it will be wrapped into `PipelineStep` automatically. Step function should have two arguments: `input` and `context`. `input` must be loaded through executor parameters, `context` contains global variables, available for each step. If `PipelineStep` returns any value, it should wrap it into `PipelineData` class. `input` passed to an `Executor` is wrapped to `PipelineData` automatically"
   ]
  },
  {
   "cell_type": "code",
   "execution_count": 4,
   "metadata": {},
   "outputs": [
    {
     "name": "stderr",
     "output_type": "stream",
     "text": [
      "LocalExecutor - INFO - Framework version: v0.1.4\n",
      "LocalExecutor - INFO - Starting AutoML Epoch #1\n",
      "  0%|          | 0/1 [00:00<?, ?it/s]LocalExecutor - INFO - Running step 'RandomChoice'\n",
      "100%|██████████| 1/1 [00:00<00:00, 1105.22it/s]"
     ]
    },
    {
     "name": "stdout",
     "output_type": "stream",
     "text": [
      "\n",
      "  █████╗ ██╗   ██╗████████╗ ██████╗ ███╗   ███╗██╗     \n",
      " ██╔══██╗██║   ██║╚══██╔══╝██╔═══██╗████╗ ████║██║     \n",
      " ███████║██║   ██║   ██║   ██║   ██║██╔████╔██║██║     \n",
      " ██╔══██║██║   ██║   ██║   ██║   ██║██║╚██╔╝██║██║     \n",
      " ██║  ██║╚██████╔╝   ██║   ╚██████╔╝██║ ╚═╝ ██║███████╗\n",
      " ╚═╝  ╚═╝ ╚═════╝    ╚═╝    ╚═════╝ ╚═╝     ╚═╝╚══════╝\n",
      "\n"
     ]
    },
    {
     "name": "stderr",
     "output_type": "stream",
     "text": [
      "\n"
     ]
    },
    {
     "data": {
      "text/plain": [
       "(<automl.pipeline.PipelineContext at 0x10d142780>, 1)"
      ]
     },
     "execution_count": 4,
     "metadata": {},
     "output_type": "execute_result"
    }
   ],
   "source": [
    "# We create two steps that add 1 and 2 to input data\n",
    "plus_one = PipelineStep('plus_one', lambda inp, context: inp.dataset + 1)\n",
    "plus_two = PipelineStep('plus_two', lambda inp, context: inp.dataset + 2)\n",
    "\n",
    "LocalExecutor(0) << \\\n",
    "    (Pipeline()\n",
    "     # We use RandomChoice combinator to choose randomly between two steps while executing the pipeline\n",
    "     >> RandomChoice([plus_one, plus_two]))"
   ]
  },
  {
   "cell_type": "markdown",
   "metadata": {},
   "source": [
    "It is recommended to create complex callables for `PipelineStep`s as classes:"
   ]
  },
  {
   "cell_type": "code",
   "execution_count": 5,
   "metadata": {},
   "outputs": [
    {
     "name": "stderr",
     "output_type": "stream",
     "text": [
      "LocalExecutor - INFO - Framework version: v0.1.4\n",
      "LocalExecutor - INFO - Starting AutoML Epoch #1\n",
      "  0%|          | 0/1 [00:00<?, ?it/s]LocalExecutor - INFO - Running step 'ComplexStep'\n",
      "100%|██████████| 1/1 [00:00<00:00, 722.53it/s]"
     ]
    },
    {
     "name": "stdout",
     "output_type": "stream",
     "text": [
      "Initializing ComplexStep\n",
      "\n",
      "  █████╗ ██╗   ██╗████████╗ ██████╗ ███╗   ███╗██╗     \n",
      " ██╔══██╗██║   ██║╚══██╔══╝██╔═══██╗████╗ ████║██║     \n",
      " ███████║██║   ██║   ██║   ██║   ██║██╔████╔██║██║     \n",
      " ██╔══██║██║   ██║   ██║   ██║   ██║██║╚██╔╝██║██║     \n",
      " ██║  ██║╚██████╔╝   ██║   ╚██████╔╝██║ ╚═╝ ██║███████╗\n",
      " ╚═╝  ╚═╝ ╚═════╝    ╚═╝    ╚═════╝ ╚═╝     ╚═╝╚══════╝\n",
      "\n",
      "<automl.pipeline.PipelineData object at 0x10d142358>\n"
     ]
    },
    {
     "name": "stderr",
     "output_type": "stream",
     "text": [
      "\n"
     ]
    },
    {
     "data": {
      "text/plain": [
       "(<automl.pipeline.PipelineContext at 0x10d142f98>,\n",
       " <automl.pipeline.PipelineData at 0x10d142358>)"
      ]
     },
     "execution_count": 5,
     "metadata": {},
     "output_type": "execute_result"
    }
   ],
   "source": [
    "class ComplexStep:\n",
    "    def __init__(self):\n",
    "        print(\"Initializing ComplexStep\")\n",
    "        \n",
    "    def __call__(self, inp, context):\n",
    "        print(inp)\n",
    "        return inp\n",
    "    \n",
    "LocalExecutor() << (Pipeline() >> ComplexStep())"
   ]
  },
  {
   "cell_type": "code",
   "execution_count": null,
   "metadata": {},
   "outputs": [],
   "source": []
  }
 ],
 "metadata": {
  "kernelspec": {
   "display_name": "Python 3",
   "language": "python",
   "name": "python3"
  },
  "language_info": {
   "codemirror_mode": {
    "name": "ipython",
    "version": 3
   },
   "file_extension": ".py",
   "mimetype": "text/x-python",
   "name": "python",
   "nbconvert_exporter": "python",
   "pygments_lexer": "ipython3",
   "version": "3.6.5"
  }
 },
 "nbformat": 4,
 "nbformat_minor": 2
}
